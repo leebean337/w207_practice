{
 "cells": [
  {
   "cell_type": "code",
   "execution_count": 1,
   "metadata": {},
   "outputs": [
    {
     "data": {
      "text/plain": [
       "(4177, 9)"
      ]
     },
     "execution_count": 1,
     "metadata": {},
     "output_type": "execute_result"
    }
   ],
   "source": [
    "import sys\n",
    "import numpy as np\n",
    "import pandas as pd\n",
    "import matplotlib.pyplot as plt\n",
    "%matplotlib inline\n",
    "data = pd.read_csv(\"abalone.data\", header=None)\n",
    "data.columns = ['sex', 'length','diameter','height','whole_weight','shucked_weight','visceral_weight','shell_weight','rings']\n",
    "data.shape"
   ]
  },
  {
   "cell_type": "code",
   "execution_count": null,
   "metadata": {},
   "outputs": [],
   "source": [
    "data.head()"
   ]
  },
  {
   "cell_type": "code",
   "execution_count": null,
   "metadata": {},
   "outputs": [],
   "source": [
    "data.describe()"
   ]
  },
  {
   "cell_type": "code",
   "execution_count": 35,
   "metadata": {},
   "outputs": [
    {
     "data": {
      "text/plain": [
       "(1044, 8)"
      ]
     },
     "execution_count": 35,
     "metadata": {},
     "output_type": "execute_result"
    }
   ],
   "source": [
    "#separate out the training data and test data\n",
    "X, Y = data.drop(\"rings\",axis=1), data[\"rings\"].copy()\n",
    "train_data, train_labels = X.iloc[:3133,:], Y.iloc[:3133]\n",
    "test_data, test_labels = X.iloc[3133:,:], Y.iloc[3133:]\n",
    "test_data.shape"
   ]
  },
  {
   "cell_type": "code",
   "execution_count": 36,
   "metadata": {},
   "outputs": [
    {
     "name": "stderr",
     "output_type": "stream",
     "text": [
      "C:\\Users\\leele\\Anaconda3\\lib\\site-packages\\ipykernel_launcher.py:2: SettingWithCopyWarning: \n",
      "A value is trying to be set on a copy of a slice from a DataFrame.\n",
      "Try using .loc[row_indexer,col_indexer] = value instead\n",
      "\n",
      "See the caveats in the documentation: http://pandas.pydata.org/pandas-docs/stable/indexing.html#indexing-view-versus-copy\n",
      "  \n"
     ]
    },
    {
     "data": {
      "text/html": [
       "<div>\n",
       "<style scoped>\n",
       "    .dataframe tbody tr th:only-of-type {\n",
       "        vertical-align: middle;\n",
       "    }\n",
       "\n",
       "    .dataframe tbody tr th {\n",
       "        vertical-align: top;\n",
       "    }\n",
       "\n",
       "    .dataframe thead th {\n",
       "        text-align: right;\n",
       "    }\n",
       "</style>\n",
       "<table border=\"1\" class=\"dataframe\">\n",
       "  <thead>\n",
       "    <tr style=\"text-align: right;\">\n",
       "      <th></th>\n",
       "      <th>rings</th>\n",
       "    </tr>\n",
       "    <tr>\n",
       "      <th>new_index</th>\n",
       "      <th></th>\n",
       "    </tr>\n",
       "  </thead>\n",
       "  <tbody>\n",
       "    <tr>\n",
       "      <th>0</th>\n",
       "      <td>9</td>\n",
       "    </tr>\n",
       "    <tr>\n",
       "      <th>1</th>\n",
       "      <td>8</td>\n",
       "    </tr>\n",
       "    <tr>\n",
       "      <th>2</th>\n",
       "      <td>9</td>\n",
       "    </tr>\n",
       "    <tr>\n",
       "      <th>3</th>\n",
       "      <td>11</td>\n",
       "    </tr>\n",
       "    <tr>\n",
       "      <th>4</th>\n",
       "      <td>10</td>\n",
       "    </tr>\n",
       "  </tbody>\n",
       "</table>\n",
       "</div>"
      ],
      "text/plain": [
       "           rings\n",
       "new_index       \n",
       "0              9\n",
       "1              8\n",
       "2              9\n",
       "3             11\n",
       "4             10"
      ]
     },
     "execution_count": 36,
     "metadata": {},
     "output_type": "execute_result"
    }
   ],
   "source": [
    "#restart test_data/test_label index at 0 to make standardization work correctly\n",
    "test_data['new_index']=test_data.index-test_data.index[0]\n",
    "test_data.set_index('new_index',inplace=True)\n",
    "\n",
    "test_labels=pd.DataFrame(test_labels)\n",
    "test_labels['new_index'] = test_labels.index - test_labels.index[0]\n",
    "test_labels.set_index('new_index',inplace=True)\n"
   ]
  },
  {
   "cell_type": "markdown",
   "metadata": {},
   "source": [
    "One hot encoding followed by standardization means we even standardized the binary variables...does this impact anything?"
   ]
  },
  {
   "cell_type": "code",
   "execution_count": 37,
   "metadata": {},
   "outputs": [
    {
     "data": {
      "text/html": [
       "<div>\n",
       "<style scoped>\n",
       "    .dataframe tbody tr th:only-of-type {\n",
       "        vertical-align: middle;\n",
       "    }\n",
       "\n",
       "    .dataframe tbody tr th {\n",
       "        vertical-align: top;\n",
       "    }\n",
       "\n",
       "    .dataframe thead th {\n",
       "        text-align: right;\n",
       "    }\n",
       "</style>\n",
       "<table border=\"1\" class=\"dataframe\">\n",
       "  <thead>\n",
       "    <tr style=\"text-align: right;\">\n",
       "      <th></th>\n",
       "      <th>length</th>\n",
       "      <th>diameter</th>\n",
       "      <th>height</th>\n",
       "      <th>whole_weight</th>\n",
       "      <th>shucked_weight</th>\n",
       "      <th>visceral_weight</th>\n",
       "      <th>shell_weight</th>\n",
       "      <th>sex_F</th>\n",
       "      <th>sex_I</th>\n",
       "      <th>sex_M</th>\n",
       "    </tr>\n",
       "  </thead>\n",
       "  <tbody>\n",
       "    <tr>\n",
       "      <th>0</th>\n",
       "      <td>-0.559492</td>\n",
       "      <td>-0.418392</td>\n",
       "      <td>-1.028758</td>\n",
       "      <td>-0.629858</td>\n",
       "      <td>-0.597433</td>\n",
       "      <td>-0.713838</td>\n",
       "      <td>-0.623324</td>\n",
       "      <td>-0.672166</td>\n",
       "      <td>-0.687222</td>\n",
       "      <td>1.310442</td>\n",
       "    </tr>\n",
       "    <tr>\n",
       "      <th>1</th>\n",
       "      <td>-1.428119</td>\n",
       "      <td>-1.418486</td>\n",
       "      <td>-1.144780</td>\n",
       "      <td>-1.214458</td>\n",
       "      <td>-1.155031</td>\n",
       "      <td>-1.191061</td>\n",
       "      <td>-1.192477</td>\n",
       "      <td>-0.672166</td>\n",
       "      <td>-0.687222</td>\n",
       "      <td>1.310442</td>\n",
       "    </tr>\n",
       "    <tr>\n",
       "      <th>2</th>\n",
       "      <td>0.060956</td>\n",
       "      <td>0.131659</td>\n",
       "      <td>-0.100580</td>\n",
       "      <td>-0.299565</td>\n",
       "      <td>-0.454688</td>\n",
       "      <td>-0.345694</td>\n",
       "      <td>-0.196459</td>\n",
       "      <td>1.487728</td>\n",
       "      <td>-0.687222</td>\n",
       "      <td>-0.763101</td>\n",
       "    </tr>\n",
       "    <tr>\n",
       "      <th>3</th>\n",
       "      <td>-0.683582</td>\n",
       "      <td>-0.418392</td>\n",
       "      <td>-0.332624</td>\n",
       "      <td>-0.625806</td>\n",
       "      <td>-0.637580</td>\n",
       "      <td>-0.595669</td>\n",
       "      <td>-0.587752</td>\n",
       "      <td>-0.672166</td>\n",
       "      <td>-0.687222</td>\n",
       "      <td>1.310442</td>\n",
       "    </tr>\n",
       "    <tr>\n",
       "      <th>4</th>\n",
       "      <td>-1.593571</td>\n",
       "      <td>-1.518495</td>\n",
       "      <td>-1.376825</td>\n",
       "      <td>-1.255998</td>\n",
       "      <td>-1.199639</td>\n",
       "      <td>-1.272871</td>\n",
       "      <td>-1.299193</td>\n",
       "      <td>-0.672166</td>\n",
       "      <td>1.455133</td>\n",
       "      <td>-0.763101</td>\n",
       "    </tr>\n",
       "  </tbody>\n",
       "</table>\n",
       "</div>"
      ],
      "text/plain": [
       "     length  diameter    height  whole_weight  shucked_weight  \\\n",
       "0 -0.559492 -0.418392 -1.028758     -0.629858       -0.597433   \n",
       "1 -1.428119 -1.418486 -1.144780     -1.214458       -1.155031   \n",
       "2  0.060956  0.131659 -0.100580     -0.299565       -0.454688   \n",
       "3 -0.683582 -0.418392 -0.332624     -0.625806       -0.637580   \n",
       "4 -1.593571 -1.518495 -1.376825     -1.255998       -1.199639   \n",
       "\n",
       "   visceral_weight  shell_weight     sex_F     sex_I     sex_M  \n",
       "0        -0.713838     -0.623324 -0.672166 -0.687222  1.310442  \n",
       "1        -1.191061     -1.192477 -0.672166 -0.687222  1.310442  \n",
       "2        -0.345694     -0.196459  1.487728 -0.687222 -0.763101  \n",
       "3        -0.595669     -0.587752 -0.672166 -0.687222  1.310442  \n",
       "4        -1.272871     -1.299193 -0.672166  1.455133 -0.763101  "
      ]
     },
     "execution_count": 37,
     "metadata": {},
     "output_type": "execute_result"
    }
   ],
   "source": [
    "#Standarization for the TRAIN data \n",
    "\n",
    "#one hot encoding to 'sex' feature\n",
    "train_data = pd.concat([train_data, pd.get_dummies(train_data['sex'], prefix='sex')], axis=1).drop(\"sex\", axis=1) \n",
    "\n",
    "#standarize all numerical data\n",
    "from sklearn import preprocessing\n",
    "\n",
    "x = train_data.values #returns a numpy array\n",
    "x_scaled = preprocessing.scale(x)\n",
    "train_data = pd.DataFrame(x_scaled)\n",
    "train_data.columns = ['length','diameter','height','whole_weight','shucked_weight','visceral_weight','shell_weight','sex_F', 'sex_I', 'sex_M']\n",
    "\n",
    "train_data.head()"
   ]
  },
  {
   "cell_type": "code",
   "execution_count": 38,
   "metadata": {},
   "outputs": [
    {
     "data": {
      "text/html": [
       "<div>\n",
       "<style scoped>\n",
       "    .dataframe tbody tr th:only-of-type {\n",
       "        vertical-align: middle;\n",
       "    }\n",
       "\n",
       "    .dataframe tbody tr th {\n",
       "        vertical-align: top;\n",
       "    }\n",
       "\n",
       "    .dataframe thead th {\n",
       "        text-align: right;\n",
       "    }\n",
       "</style>\n",
       "<table border=\"1\" class=\"dataframe\">\n",
       "  <thead>\n",
       "    <tr style=\"text-align: right;\">\n",
       "      <th></th>\n",
       "      <th>length</th>\n",
       "      <th>diameter</th>\n",
       "      <th>height</th>\n",
       "      <th>whole_weight</th>\n",
       "      <th>shucked_weight</th>\n",
       "      <th>visceral_weight</th>\n",
       "      <th>shell_weight</th>\n",
       "      <th>sex_F</th>\n",
       "      <th>sex_I</th>\n",
       "      <th>sex_M</th>\n",
       "    </tr>\n",
       "  </thead>\n",
       "  <tbody>\n",
       "    <tr>\n",
       "      <th>0</th>\n",
       "      <td>-0.366454</td>\n",
       "      <td>-0.217071</td>\n",
       "      <td>-1.061553</td>\n",
       "      <td>-0.590979</td>\n",
       "      <td>-0.654172</td>\n",
       "      <td>-0.630524</td>\n",
       "      <td>-0.426064</td>\n",
       "      <td>1.464438</td>\n",
       "      <td>-0.690407</td>\n",
       "      <td>-0.748691</td>\n",
       "    </tr>\n",
       "    <tr>\n",
       "      <th>1</th>\n",
       "      <td>-0.579139</td>\n",
       "      <td>-0.526875</td>\n",
       "      <td>-0.399114</td>\n",
       "      <td>-0.610750</td>\n",
       "      <td>-0.677423</td>\n",
       "      <td>-0.676693</td>\n",
       "      <td>-0.389003</td>\n",
       "      <td>-0.682856</td>\n",
       "      <td>-0.690407</td>\n",
       "      <td>1.335665</td>\n",
       "    </tr>\n",
       "    <tr>\n",
       "      <th>2</th>\n",
       "      <td>-0.579139</td>\n",
       "      <td>-0.630143</td>\n",
       "      <td>-0.399114</td>\n",
       "      <td>-0.674226</td>\n",
       "      <td>-0.807624</td>\n",
       "      <td>-0.639758</td>\n",
       "      <td>-0.426064</td>\n",
       "      <td>-0.682856</td>\n",
       "      <td>-0.690407</td>\n",
       "      <td>1.335665</td>\n",
       "    </tr>\n",
       "    <tr>\n",
       "      <th>3</th>\n",
       "      <td>0.058916</td>\n",
       "      <td>0.092733</td>\n",
       "      <td>-0.399114</td>\n",
       "      <td>-0.159138</td>\n",
       "      <td>-0.233344</td>\n",
       "      <td>-0.307342</td>\n",
       "      <td>0.166908</td>\n",
       "      <td>-0.682856</td>\n",
       "      <td>-0.690407</td>\n",
       "      <td>1.335665</td>\n",
       "    </tr>\n",
       "    <tr>\n",
       "      <th>4</th>\n",
       "      <td>-0.536602</td>\n",
       "      <td>-0.526875</td>\n",
       "      <td>-0.929065</td>\n",
       "      <td>-0.733539</td>\n",
       "      <td>-0.809949</td>\n",
       "      <td>-0.916771</td>\n",
       "      <td>-0.389003</td>\n",
       "      <td>-0.682856</td>\n",
       "      <td>-0.690407</td>\n",
       "      <td>1.335665</td>\n",
       "    </tr>\n",
       "  </tbody>\n",
       "</table>\n",
       "</div>"
      ],
      "text/plain": [
       "     length  diameter    height  whole_weight  shucked_weight  \\\n",
       "0 -0.366454 -0.217071 -1.061553     -0.590979       -0.654172   \n",
       "1 -0.579139 -0.526875 -0.399114     -0.610750       -0.677423   \n",
       "2 -0.579139 -0.630143 -0.399114     -0.674226       -0.807624   \n",
       "3  0.058916  0.092733 -0.399114     -0.159138       -0.233344   \n",
       "4 -0.536602 -0.526875 -0.929065     -0.733539       -0.809949   \n",
       "\n",
       "   visceral_weight  shell_weight     sex_F     sex_I     sex_M  \n",
       "0        -0.630524     -0.426064  1.464438 -0.690407 -0.748691  \n",
       "1        -0.676693     -0.389003 -0.682856 -0.690407  1.335665  \n",
       "2        -0.639758     -0.426064 -0.682856 -0.690407  1.335665  \n",
       "3        -0.307342      0.166908 -0.682856 -0.690407  1.335665  \n",
       "4        -0.916771     -0.389003 -0.682856 -0.690407  1.335665  "
      ]
     },
     "execution_count": 38,
     "metadata": {},
     "output_type": "execute_result"
    }
   ],
   "source": [
    "#Standarization for the TEST data \n",
    "\n",
    "#one hot encoding to 'sex' feature\n",
    "test_data = pd.concat([test_data, pd.get_dummies(test_data['sex'], prefix='sex')], axis=1).drop(\"sex\", axis=1) \n",
    "\n",
    "#standarize all numerical data\n",
    "\n",
    "x = test_data.values #returns a numpy array\n",
    "x_scaled = preprocessing.scale(x)\n",
    "test_data = pd.DataFrame(x_scaled)\n",
    "test_data.columns = ['length','diameter','height','whole_weight','shucked_weight','visceral_weight','shell_weight','sex_F', 'sex_I', 'sex_M']\n",
    "\n",
    "test_data.head()"
   ]
  },
  {
   "cell_type": "code",
   "execution_count": 40,
   "metadata": {},
   "outputs": [
    {
     "data": {
      "text/plain": [
       "Text(0, 0.5, 'Testing Accuracy')"
      ]
     },
     "execution_count": 40,
     "metadata": {},
     "output_type": "execute_result"
    },
    {
     "data": {
      "image/png": "[encoded data removed]",
      "text/plain": [
       "<Figure size 432x288 with 1 Axes>"
      ]
     },
     "metadata": {
      "needs_background": "light"
     },
     "output_type": "display_data"
    }
   ],
   "source": [
    "#train data!\n",
    "\n",
    "from sklearn.neighbors import KNeighborsClassifier\n",
    "from sklearn import metrics\n",
    "\n",
    "#run from k=1 throgh 50 and record test accuracy\n",
    "k_range = range(1,51)\n",
    "scores = {}\n",
    "scores_list = []\n",
    "for k in k_range:\n",
    "    knn = KNeighborsClassifier(n_neighbors=k)\n",
    "    knn.fit(train_data, train_labels)\n",
    "    test_pred = knn.predict(test_data)\n",
    "    scores[k] = metrics.accuracy_score(test_labels,test_pred)\n",
    "    scores_list.append(metrics.accuracy_score(test_labels,test_pred))\n",
    "    \n",
    "#plot the relationship between K and the testing accuracy\n",
    "plt.plot(k_range,scores_list)\n",
    "plt.xlabel('Value of K for KNN')\n",
    "plt.ylabel('Testing Accuracy')"
   ]
  },
  {
   "cell_type": "code",
   "execution_count": 49,
   "metadata": {},
   "outputs": [
    {
     "data": {
      "text/html": [
       "<div>\n",
       "<style scoped>\n",
       "    .dataframe tbody tr th:only-of-type {\n",
       "        vertical-align: middle;\n",
       "    }\n",
       "\n",
       "    .dataframe tbody tr th {\n",
       "        vertical-align: top;\n",
       "    }\n",
       "\n",
       "    .dataframe thead th {\n",
       "        text-align: right;\n",
       "    }\n",
       "</style>\n",
       "<table border=\"1\" class=\"dataframe\">\n",
       "  <thead>\n",
       "    <tr style=\"text-align: right;\">\n",
       "      <th></th>\n",
       "      <th>predict</th>\n",
       "      <th>rings</th>\n",
       "      <th>diff</th>\n",
       "    </tr>\n",
       "  </thead>\n",
       "  <tbody>\n",
       "    <tr>\n",
       "      <th>count</th>\n",
       "      <td>1044.000000</td>\n",
       "      <td>1044.000000</td>\n",
       "      <td>1044.00000</td>\n",
       "    </tr>\n",
       "    <tr>\n",
       "      <th>mean</th>\n",
       "      <td>8.931992</td>\n",
       "      <td>9.999042</td>\n",
       "      <td>1.06705</td>\n",
       "    </tr>\n",
       "    <tr>\n",
       "      <th>std</th>\n",
       "      <td>2.004351</td>\n",
       "      <td>3.066692</td>\n",
       "      <td>2.33061</td>\n",
       "    </tr>\n",
       "    <tr>\n",
       "      <th>min</th>\n",
       "      <td>4.000000</td>\n",
       "      <td>3.000000</td>\n",
       "      <td>-4.00000</td>\n",
       "    </tr>\n",
       "    <tr>\n",
       "      <th>25%</th>\n",
       "      <td>8.000000</td>\n",
       "      <td>8.000000</td>\n",
       "      <td>0.00000</td>\n",
       "    </tr>\n",
       "    <tr>\n",
       "      <th>50%</th>\n",
       "      <td>9.000000</td>\n",
       "      <td>10.000000</td>\n",
       "      <td>1.00000</td>\n",
       "    </tr>\n",
       "    <tr>\n",
       "      <th>75%</th>\n",
       "      <td>10.000000</td>\n",
       "      <td>11.000000</td>\n",
       "      <td>2.00000</td>\n",
       "    </tr>\n",
       "    <tr>\n",
       "      <th>max</th>\n",
       "      <td>17.000000</td>\n",
       "      <td>24.000000</td>\n",
       "      <td>14.00000</td>\n",
       "    </tr>\n",
       "  </tbody>\n",
       "</table>\n",
       "</div>"
      ],
      "text/plain": [
       "           predict        rings        diff\n",
       "count  1044.000000  1044.000000  1044.00000\n",
       "mean      8.931992     9.999042     1.06705\n",
       "std       2.004351     3.066692     2.33061\n",
       "min       4.000000     3.000000    -4.00000\n",
       "25%       8.000000     8.000000     0.00000\n",
       "50%       9.000000    10.000000     1.00000\n",
       "75%      10.000000    11.000000     2.00000\n",
       "max      17.000000    24.000000    14.00000"
      ]
     },
     "execution_count": 49,
     "metadata": {},
     "output_type": "execute_result"
    }
   ],
   "source": [
    "#exam k=20 \n",
    "\n",
    "knn = KNeighborsClassifier(n_neighbors=20)\n",
    "knn.fit(train_data, train_labels)\n",
    "test_pred = pd.DataFrame(knn.predict(test_data),columns=['predict']).join(test_labels)\n",
    "test_pred['diff'] = test_pred['rings'] - test_pred['predict']\n",
    "test_pred.describe()"
   ]
  },
  {
   "cell_type": "code",
   "execution_count": 51,
   "metadata": {},
   "outputs": [
    {
     "data": {
      "text/plain": [
       " 0     270\n",
       " 1     205\n",
       "-1     154\n",
       " 2     131\n",
       " 3      66\n",
       "-2      58\n",
       " 4      44\n",
       " 5      36\n",
       " 6      25\n",
       "-3      15\n",
       " 8      12\n",
       " 7      11\n",
       "-4       6\n",
       " 9       6\n",
       " 10      3\n",
       " 11      1\n",
       " 14      1\n",
       "Name: diff, dtype: int64"
      ]
     },
     "execution_count": 51,
     "metadata": {},
     "output_type": "execute_result"
    }
   ],
   "source": [
    "test_pred['diff'].value_counts()"
   ]
  },
  {
   "cell_type": "code",
   "execution_count": 52,
   "metadata": {},
   "outputs": [
    {
     "data": {
      "text/plain": [
       "0.25862068965517243"
      ]
     },
     "execution_count": 52,
     "metadata": {},
     "output_type": "execute_result"
    }
   ],
   "source": [
    "270/1044\n"
   ]
  },
  {
   "cell_type": "code",
   "execution_count": null,
   "metadata": {},
   "outputs": [],
   "source": []
  }
 ],
 "metadata": {
  "kernelspec": {
   "display_name": "Python 3",
   "language": "python",
   "name": "python3"
  },
  "language_info": {
   "codemirror_mode": {
    "name": "ipython",
    "version": 3
   },
   "file_extension": ".py",
   "mimetype": "text/x-python",
   "name": "python",
   "nbconvert_exporter": "python",
   "pygments_lexer": "ipython3",
   "version": "3.7.1"
  }
 },
 "nbformat": 4,
 "nbformat_minor": 2
}
